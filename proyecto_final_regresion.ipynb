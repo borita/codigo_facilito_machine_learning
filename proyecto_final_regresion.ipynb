{
  "nbformat": 4,
  "nbformat_minor": 0,
  "metadata": {
    "colab": {
      "provenance": [],
      "authorship_tag": "ABX9TyPc4ijOssr00Z3ubD2WuEtR",
      "include_colab_link": true
    },
    "kernelspec": {
      "name": "python3",
      "display_name": "Python 3"
    },
    "language_info": {
      "name": "python"
    }
  },
  "cells": [
    {
      "cell_type": "markdown",
      "metadata": {
        "id": "view-in-github",
        "colab_type": "text"
      },
      "source": [
        "<a href=\"https://colab.research.google.com/github/borita/codigo_facilito_machine_learning/blob/main/proyecto_final_regresion.ipynb\" target=\"_parent\"><img src=\"https://colab.research.google.com/assets/colab-badge.svg\" alt=\"Open In Colab\"/></a>"
      ]
    },
    {
      "cell_type": "markdown",
      "source": [],
      "metadata": {
        "id": "KZV-CtdIsfjA"
      }
    },
    {
      "cell_type": "code",
      "execution_count": null,
      "metadata": {
        "id": "_j7dTLntrW8N",
        "colab": {
          "base_uri": "https://localhost:8080/",
          "height": 298
        },
        "outputId": "70415e2b-9d8c-4414-d808-a57948520151"
      },
      "outputs": [
        {
          "output_type": "display_data",
          "data": {
            "text/plain": [
              "<IPython.core.display.HTML object>"
            ],
            "text/html": [
              "\n",
              "     <input type=\"file\" id=\"files-6c533f30-8eb0-4730-8d1f-4761e80f0b59\" name=\"files[]\" multiple disabled\n",
              "        style=\"border:none\" />\n",
              "     <output id=\"result-6c533f30-8eb0-4730-8d1f-4761e80f0b59\">\n",
              "      Upload widget is only available when the cell has been executed in the\n",
              "      current browser session. Please rerun this cell to enable.\n",
              "      </output>\n",
              "      <script>// Copyright 2017 Google LLC\n",
              "//\n",
              "// Licensed under the Apache License, Version 2.0 (the \"License\");\n",
              "// you may not use this file except in compliance with the License.\n",
              "// You may obtain a copy of the License at\n",
              "//\n",
              "//      http://www.apache.org/licenses/LICENSE-2.0\n",
              "//\n",
              "// Unless required by applicable law or agreed to in writing, software\n",
              "// distributed under the License is distributed on an \"AS IS\" BASIS,\n",
              "// WITHOUT WARRANTIES OR CONDITIONS OF ANY KIND, either express or implied.\n",
              "// See the License for the specific language governing permissions and\n",
              "// limitations under the License.\n",
              "\n",
              "/**\n",
              " * @fileoverview Helpers for google.colab Python module.\n",
              " */\n",
              "(function(scope) {\n",
              "function span(text, styleAttributes = {}) {\n",
              "  const element = document.createElement('span');\n",
              "  element.textContent = text;\n",
              "  for (const key of Object.keys(styleAttributes)) {\n",
              "    element.style[key] = styleAttributes[key];\n",
              "  }\n",
              "  return element;\n",
              "}\n",
              "\n",
              "// Max number of bytes which will be uploaded at a time.\n",
              "const MAX_PAYLOAD_SIZE = 100 * 1024;\n",
              "\n",
              "function _uploadFiles(inputId, outputId) {\n",
              "  const steps = uploadFilesStep(inputId, outputId);\n",
              "  const outputElement = document.getElementById(outputId);\n",
              "  // Cache steps on the outputElement to make it available for the next call\n",
              "  // to uploadFilesContinue from Python.\n",
              "  outputElement.steps = steps;\n",
              "\n",
              "  return _uploadFilesContinue(outputId);\n",
              "}\n",
              "\n",
              "// This is roughly an async generator (not supported in the browser yet),\n",
              "// where there are multiple asynchronous steps and the Python side is going\n",
              "// to poll for completion of each step.\n",
              "// This uses a Promise to block the python side on completion of each step,\n",
              "// then passes the result of the previous step as the input to the next step.\n",
              "function _uploadFilesContinue(outputId) {\n",
              "  const outputElement = document.getElementById(outputId);\n",
              "  const steps = outputElement.steps;\n",
              "\n",
              "  const next = steps.next(outputElement.lastPromiseValue);\n",
              "  return Promise.resolve(next.value.promise).then((value) => {\n",
              "    // Cache the last promise value to make it available to the next\n",
              "    // step of the generator.\n",
              "    outputElement.lastPromiseValue = value;\n",
              "    return next.value.response;\n",
              "  });\n",
              "}\n",
              "\n",
              "/**\n",
              " * Generator function which is called between each async step of the upload\n",
              " * process.\n",
              " * @param {string} inputId Element ID of the input file picker element.\n",
              " * @param {string} outputId Element ID of the output display.\n",
              " * @return {!Iterable<!Object>} Iterable of next steps.\n",
              " */\n",
              "function* uploadFilesStep(inputId, outputId) {\n",
              "  const inputElement = document.getElementById(inputId);\n",
              "  inputElement.disabled = false;\n",
              "\n",
              "  const outputElement = document.getElementById(outputId);\n",
              "  outputElement.innerHTML = '';\n",
              "\n",
              "  const pickedPromise = new Promise((resolve) => {\n",
              "    inputElement.addEventListener('change', (e) => {\n",
              "      resolve(e.target.files);\n",
              "    });\n",
              "  });\n",
              "\n",
              "  const cancel = document.createElement('button');\n",
              "  inputElement.parentElement.appendChild(cancel);\n",
              "  cancel.textContent = 'Cancel upload';\n",
              "  const cancelPromise = new Promise((resolve) => {\n",
              "    cancel.onclick = () => {\n",
              "      resolve(null);\n",
              "    };\n",
              "  });\n",
              "\n",
              "  // Wait for the user to pick the files.\n",
              "  const files = yield {\n",
              "    promise: Promise.race([pickedPromise, cancelPromise]),\n",
              "    response: {\n",
              "      action: 'starting',\n",
              "    }\n",
              "  };\n",
              "\n",
              "  cancel.remove();\n",
              "\n",
              "  // Disable the input element since further picks are not allowed.\n",
              "  inputElement.disabled = true;\n",
              "\n",
              "  if (!files) {\n",
              "    return {\n",
              "      response: {\n",
              "        action: 'complete',\n",
              "      }\n",
              "    };\n",
              "  }\n",
              "\n",
              "  for (const file of files) {\n",
              "    const li = document.createElement('li');\n",
              "    li.append(span(file.name, {fontWeight: 'bold'}));\n",
              "    li.append(span(\n",
              "        `(${file.type || 'n/a'}) - ${file.size} bytes, ` +\n",
              "        `last modified: ${\n",
              "            file.lastModifiedDate ? file.lastModifiedDate.toLocaleDateString() :\n",
              "                                    'n/a'} - `));\n",
              "    const percent = span('0% done');\n",
              "    li.appendChild(percent);\n",
              "\n",
              "    outputElement.appendChild(li);\n",
              "\n",
              "    const fileDataPromise = new Promise((resolve) => {\n",
              "      const reader = new FileReader();\n",
              "      reader.onload = (e) => {\n",
              "        resolve(e.target.result);\n",
              "      };\n",
              "      reader.readAsArrayBuffer(file);\n",
              "    });\n",
              "    // Wait for the data to be ready.\n",
              "    let fileData = yield {\n",
              "      promise: fileDataPromise,\n",
              "      response: {\n",
              "        action: 'continue',\n",
              "      }\n",
              "    };\n",
              "\n",
              "    // Use a chunked sending to avoid message size limits. See b/62115660.\n",
              "    let position = 0;\n",
              "    do {\n",
              "      const length = Math.min(fileData.byteLength - position, MAX_PAYLOAD_SIZE);\n",
              "      const chunk = new Uint8Array(fileData, position, length);\n",
              "      position += length;\n",
              "\n",
              "      const base64 = btoa(String.fromCharCode.apply(null, chunk));\n",
              "      yield {\n",
              "        response: {\n",
              "          action: 'append',\n",
              "          file: file.name,\n",
              "          data: base64,\n",
              "        },\n",
              "      };\n",
              "\n",
              "      let percentDone = fileData.byteLength === 0 ?\n",
              "          100 :\n",
              "          Math.round((position / fileData.byteLength) * 100);\n",
              "      percent.textContent = `${percentDone}% done`;\n",
              "\n",
              "    } while (position < fileData.byteLength);\n",
              "  }\n",
              "\n",
              "  // All done.\n",
              "  yield {\n",
              "    response: {\n",
              "      action: 'complete',\n",
              "    }\n",
              "  };\n",
              "}\n",
              "\n",
              "scope.google = scope.google || {};\n",
              "scope.google.colab = scope.google.colab || {};\n",
              "scope.google.colab._files = {\n",
              "  _uploadFiles,\n",
              "  _uploadFilesContinue,\n",
              "};\n",
              "})(self);\n",
              "</script> "
            ]
          },
          "metadata": {}
        },
        {
          "output_type": "stream",
          "name": "stdout",
          "text": [
            "Saving mes_1.txt to mes_1 (1).txt\n",
            "     ID Genero  Edad  Grado  Becado  Horas de Estudio  Horas de Tarea  \\\n",
            "0  S001      M    10     10       1          5.448561        4.380500   \n",
            "1  S002      F    12      9       0          4.398627        2.641112   \n",
            "2  S003      M    17     11       0          3.180663        2.683844   \n",
            "3  S004      M    10     10       0          4.217794        3.565105   \n",
            "4  S005      M    13      9       0          5.470478        3.703445   \n",
            "\n",
            "   Horas de Tutoring  Calificacion  \n",
            "0           2.985178    100.000000  \n",
            "1           2.546036     76.201906  \n",
            "2           1.018846     59.070642  \n",
            "3           3.127948     87.404609  \n",
            "4           2.592256     93.601384  \n"
          ]
        },
        {
          "output_type": "display_data",
          "data": {
            "text/plain": [
              "<IPython.core.display.Javascript object>"
            ],
            "application/javascript": [
              "\n",
              "    async function download(id, filename, size) {\n",
              "      if (!google.colab.kernel.accessAllowed) {\n",
              "        return;\n",
              "      }\n",
              "      const div = document.createElement('div');\n",
              "      const label = document.createElement('label');\n",
              "      label.textContent = `Downloading \"${filename}\": `;\n",
              "      div.appendChild(label);\n",
              "      const progress = document.createElement('progress');\n",
              "      progress.max = size;\n",
              "      div.appendChild(progress);\n",
              "      document.body.appendChild(div);\n",
              "\n",
              "      const buffers = [];\n",
              "      let downloaded = 0;\n",
              "\n",
              "      const channel = await google.colab.kernel.comms.open(id);\n",
              "      // Send a message to notify the kernel that we're ready.\n",
              "      channel.send({})\n",
              "\n",
              "      for await (const message of channel.messages) {\n",
              "        // Send a message to notify the kernel that we're ready.\n",
              "        channel.send({})\n",
              "        if (message.buffers) {\n",
              "          for (const buffer of message.buffers) {\n",
              "            buffers.push(buffer);\n",
              "            downloaded += buffer.byteLength;\n",
              "            progress.value = downloaded;\n",
              "          }\n",
              "        }\n",
              "      }\n",
              "      const blob = new Blob(buffers, {type: 'application/binary'});\n",
              "      const a = document.createElement('a');\n",
              "      a.href = window.URL.createObjectURL(blob);\n",
              "      a.download = filename;\n",
              "      div.appendChild(a);\n",
              "      a.click();\n",
              "      div.remove();\n",
              "    }\n",
              "  "
            ]
          },
          "metadata": {}
        },
        {
          "output_type": "display_data",
          "data": {
            "text/plain": [
              "<IPython.core.display.Javascript object>"
            ],
            "application/javascript": [
              "download(\"download_1fb8b806-a0d4-4cd0-803f-2bd8e9ade47b\", \"resultado.csv\", 41089)"
            ]
          },
          "metadata": {}
        }
      ],
      "source": [
        "from google.colab import files\n",
        "import pandas as pd\n",
        "\n",
        "# Paso 1: Subir archivos desde pc\n",
        "uploaded = files.upload()\n",
        "\n",
        "# Paso 2: Leer uno de los archivos subidos\n",
        "df = pd.read_csv('mes_1.txt')\n",
        "print(df.head())\n",
        "\n",
        "\n",
        "# Paso 3: Guardar un archivo resultado y descargarlo a PC\n",
        "df.to_csv('resultado.csv', index=False)\n",
        "files.download('resultado.csv')"
      ]
    },
    {
      "cell_type": "markdown",
      "source": [],
      "metadata": {
        "id": "Pow7Ps8tsrGx"
      }
    },
    {
      "cell_type": "code",
      "source": [
        "import pandas as pd\n",
        "\n",
        "# Leer archivos subidos\n",
        "archivos = ['mes_1.txt', 'mes_2.txt', 'mes_3.txt', 'mes_4.txt']\n",
        "\n",
        "# Crear un diccionario para almacenar los dataframes\n",
        "datos = {}\n",
        "\n",
        "# Leer cada archivo y guardarlo en el diccionario\n",
        "for archivo in archivos:\n",
        "    try:\n",
        "        df = pd.read_csv(archivo)\n",
        "        datos[archivo] = df\n",
        "        print(f\"Archivo {archivo} cargado correctamente.\")\n",
        "        print(df.head(), \"\\n\")\n",
        "    except Exception as e:\n",
        "        print(f\"Error al leer {archivo}: {e}\")"
      ],
      "metadata": {
        "colab": {
          "base_uri": "https://localhost:8080/"
        },
        "id": "1Boy0nkFsrgA",
        "outputId": "8b991e7c-1c2e-46e3-8fee-fc841b563400"
      },
      "execution_count": null,
      "outputs": [
        {
          "output_type": "stream",
          "name": "stdout",
          "text": [
            "Archivo mes_1.txt cargado correctamente.\n",
            "     ID Genero  Edad  Grado  Becado  Horas de Estudio  Horas de Tarea  \\\n",
            "0  S001      M    10     10       1          5.448561        4.380500   \n",
            "1  S002      F    12      9       0          4.398627        2.641112   \n",
            "2  S003      M    17     11       0          3.180663        2.683844   \n",
            "3  S004      M    10     10       0          4.217794        3.565105   \n",
            "4  S005      M    13      9       0          5.470478        3.703445   \n",
            "\n",
            "   Horas de Tutoring  Calificacion  \n",
            "0           2.985178    100.000000  \n",
            "1           2.546036     76.201906  \n",
            "2           1.018846     59.070642  \n",
            "3           3.127948     87.404609  \n",
            "4           2.592256     93.601384   \n",
            "\n",
            "Error al leer mes_2.txt: [Errno 2] No such file or directory: 'mes_2.txt'\n",
            "Error al leer mes_3.txt: [Errno 2] No such file or directory: 'mes_3.txt'\n",
            "Error al leer mes_4.txt: [Errno 2] No such file or directory: 'mes_4.txt'\n"
          ]
        }
      ]
    },
    {
      "cell_type": "markdown",
      "source": [],
      "metadata": {
        "id": "3fSGZ-BCrcT_"
      }
    },
    {
      "cell_type": "markdown",
      "source": [],
      "metadata": {
        "id": "uGRu4JoeszUr"
      }
    },
    {
      "cell_type": "code",
      "source": [
        "import pandas as pd\n",
        "\n",
        "df_mes1 = pd.read_csv('mes_1.txt')\n",
        "print(\"Primeras 5 filas del archivo mes_1.txt:\")\n",
        "print(df_mes1.head())"
      ],
      "metadata": {
        "colab": {
          "base_uri": "https://localhost:8080/"
        },
        "id": "-83sQ-Bmsz17",
        "outputId": "043fca46-bc1f-4452-d154-21b96622dfee"
      },
      "execution_count": null,
      "outputs": [
        {
          "output_type": "stream",
          "name": "stdout",
          "text": [
            "Primeras 5 filas del archivo mes_1.txt:\n",
            "     ID Genero  Edad  Grado  Becado  Horas de Estudio  Horas de Tarea  \\\n",
            "0  S001      M    10     10       1          5.448561        4.380500   \n",
            "1  S002      F    12      9       0          4.398627        2.641112   \n",
            "2  S003      M    17     11       0          3.180663        2.683844   \n",
            "3  S004      M    10     10       0          4.217794        3.565105   \n",
            "4  S005      M    13      9       0          5.470478        3.703445   \n",
            "\n",
            "   Horas de Tutoring  Calificacion  \n",
            "0           2.985178    100.000000  \n",
            "1           2.546036     76.201906  \n",
            "2           1.018846     59.070642  \n",
            "3           3.127948     87.404609  \n",
            "4           2.592256     93.601384  \n"
          ]
        }
      ]
    },
    {
      "cell_type": "markdown",
      "source": [],
      "metadata": {
        "id": "ArcdOUQIs7bC"
      }
    },
    {
      "cell_type": "code",
      "source": [
        "print(\"\\nValores nulos por columna:\")\n",
        "print(df_mes1.isnull().sum())\n"
      ],
      "metadata": {
        "colab": {
          "base_uri": "https://localhost:8080/"
        },
        "id": "PJ8tZMTJs78n",
        "outputId": "2f7a6cc7-c7d9-4a42-d4b6-bf8922af0984"
      },
      "execution_count": null,
      "outputs": [
        {
          "output_type": "stream",
          "name": "stdout",
          "text": [
            "\n",
            "Valores nulos por columna:\n",
            "ID                   0\n",
            "Genero               0\n",
            "Edad                 0\n",
            "Grado                0\n",
            "Becado               0\n",
            "Horas de Estudio     0\n",
            "Horas de Tarea       0\n",
            "Horas de Tutoring    0\n",
            "Calificacion         0\n",
            "dtype: int64\n"
          ]
        }
      ]
    },
    {
      "cell_type": "markdown",
      "source": [],
      "metadata": {
        "id": "1jYFfI8otCSG"
      }
    },
    {
      "cell_type": "code",
      "source": [
        "num_filas_con_nulos = df_mes1.isnull().any(axis=1).sum()\n",
        "print(f\"\\nNúmero de filas con al menos un valor nulo: {num_filas_con_nulos}\")"
      ],
      "metadata": {
        "colab": {
          "base_uri": "https://localhost:8080/"
        },
        "id": "d4Lki322tDDF",
        "outputId": "a39e9255-f061-4bd6-8d41-d059eb1d8080"
      },
      "execution_count": null,
      "outputs": [
        {
          "output_type": "stream",
          "name": "stdout",
          "text": [
            "\n",
            "Número de filas con al menos un valor nulo: 0\n"
          ]
        }
      ]
    },
    {
      "cell_type": "markdown",
      "source": [],
      "metadata": {
        "id": "sqyXkqpdtH5g"
      }
    },
    {
      "cell_type": "code",
      "source": [
        "df.info()\n",
        "print(df['Calificacion'].dtype)\n",
        "print(df['Calificacion'].head())\n",
        "df.info()"
      ],
      "metadata": {
        "colab": {
          "base_uri": "https://localhost:8080/"
        },
        "id": "I2kpNP8MtIR6",
        "outputId": "017258be-a3fc-456e-89d2-323bce47e236"
      },
      "execution_count": null,
      "outputs": [
        {
          "output_type": "stream",
          "name": "stdout",
          "text": [
            "<class 'pandas.core.frame.DataFrame'>\n",
            "RangeIndex: 500 entries, 0 to 499\n",
            "Data columns (total 9 columns):\n",
            " #   Column             Non-Null Count  Dtype  \n",
            "---  ------             --------------  -----  \n",
            " 0   ID                 500 non-null    object \n",
            " 1   Genero             500 non-null    object \n",
            " 2   Edad               500 non-null    int64  \n",
            " 3   Grado              500 non-null    int64  \n",
            " 4   Becado             500 non-null    int64  \n",
            " 5   Horas de Estudio   500 non-null    float64\n",
            " 6   Horas de Tarea     500 non-null    float64\n",
            " 7   Horas de Tutoring  500 non-null    float64\n",
            " 8   Calificacion       500 non-null    float64\n",
            "dtypes: float64(4), int64(3), object(2)\n",
            "memory usage: 35.3+ KB\n",
            "float64\n",
            "0    100.000000\n",
            "1     76.201906\n",
            "2     59.070642\n",
            "3     87.404609\n",
            "4     93.601384\n",
            "Name: Calificacion, dtype: float64\n",
            "<class 'pandas.core.frame.DataFrame'>\n",
            "RangeIndex: 500 entries, 0 to 499\n",
            "Data columns (total 9 columns):\n",
            " #   Column             Non-Null Count  Dtype  \n",
            "---  ------             --------------  -----  \n",
            " 0   ID                 500 non-null    object \n",
            " 1   Genero             500 non-null    object \n",
            " 2   Edad               500 non-null    int64  \n",
            " 3   Grado              500 non-null    int64  \n",
            " 4   Becado             500 non-null    int64  \n",
            " 5   Horas de Estudio   500 non-null    float64\n",
            " 6   Horas de Tarea     500 non-null    float64\n",
            " 7   Horas de Tutoring  500 non-null    float64\n",
            " 8   Calificacion       500 non-null    float64\n",
            "dtypes: float64(4), int64(3), object(2)\n",
            "memory usage: 35.3+ KB\n"
          ]
        }
      ]
    },
    {
      "cell_type": "markdown",
      "source": [
        "matrz de correlacion"
      ],
      "metadata": {
        "id": "1jPVizzAtPtq"
      }
    },
    {
      "cell_type": "code",
      "source": [],
      "metadata": {
        "id": "4Y13e-g8rdE_"
      },
      "execution_count": null,
      "outputs": []
    },
    {
      "cell_type": "code",
      "source": [
        "# Paso 1: Importar librerías y leer datos\n",
        "import pandas as pd\n",
        "import seaborn as sns\n",
        "import matplotlib.pyplot as plt\n",
        "from sklearn.model_selection import train_test_split\n",
        "from sklearn.linear_model import LinearRegression\n",
        "from sklearn.metrics import mean_squared_error, r2_score\n",
        "\n",
        "df = pd.read_csv('mes_1.txt')\n",
        "print(\"Primeras filas del dataset:\")\n",
        "print(df.head())\n",
        "\n",
        "# Paso 2: Matriz de correlación y heatmap\n",
        "print(\"\\nMatriz de correlación:\")\n",
        "#print(df.corr())\n",
        "\n",
        "# Seleccionar solo columnas numéricas\n",
        "df_num = df.select_dtypes(include=['float64', 'int64'])\n",
        "\n",
        "print(df_num.corr())\n",
        "\n",
        "import seaborn as sns\n",
        "import matplotlib.pyplot as plt\n",
        "\n",
        "sns.heatmap(df_num.corr(), annot=True, cmap='coolwarm')\n",
        "plt.show()\n",
        "\n",
        "\n",
        "# Paso 3: Definir variables independiente y dependiente\n",
        "X = df[['Horas de Estudio']]  # Variable independiente\n",
        "y = df['Calificacion']        # Variable dependiente\n",
        "\n",
        "# Paso 4: Dividir en datos de entrenamiento y prueba\n",
        "X_train, X_test, y_train, y_test = train_test_split(X, y, test_size=0.2, random_state=42)\n",
        "\n",
        "# Paso 5: Entrenar modelo\n",
        "model = LinearRegression()\n",
        "model.fit(X_train, y_train)\n",
        "\n",
        "# Paso 6: Predecir y evaluar modelo\n",
        "y_pred = model.predict(X_test)\n",
        "\n",
        "mse = mean_squared_error(y_test, y_pred)\n",
        "r2 = r2_score(y_test, y_pred)\n",
        "\n",
        "print(f\"\\nMean Squared Error (MSE): {mse:.2f}\")\n",
        "print(f\"R-squared (R2): {r2:.2f}\")\n",
        "\n",
        "# Paso 7: Visualización de resultados\n",
        "plt.scatter(X_test, y_test, color='blue', label='Datos reales')\n",
        "plt.plot(X_test, y_pred, color='red', linewidth=2, label='Predicción')\n",
        "plt.xlabel('Horas de Estudio')\n",
        "plt.ylabel('Calificación')\n",
        "plt.legend()\n",
        "plt.show()\n"
      ],
      "metadata": {
        "colab": {
          "base_uri": "https://localhost:8080/",
          "height": 1000
        },
        "id": "hud434y6tSWW",
        "outputId": "820bf6ff-b48f-4c64-9016-715912ad0e1d"
      },
      "execution_count": null,
      "outputs": [
        {
          "output_type": "stream",
          "name": "stdout",
          "text": [
            "Primeras filas del dataset:\n",
            "     ID Genero  Edad  Grado  Becado  Horas de Estudio  Horas de Tarea  \\\n",
            "0  S001      M    10     10       1          5.448561        4.380500   \n",
            "1  S002      F    12      9       0          4.398627        2.641112   \n",
            "2  S003      M    17     11       0          3.180663        2.683844   \n",
            "3  S004      M    10     10       0          4.217794        3.565105   \n",
            "4  S005      M    13      9       0          5.470478        3.703445   \n",
            "\n",
            "   Horas de Tutoring  Calificacion  \n",
            "0           2.985178    100.000000  \n",
            "1           2.546036     76.201906  \n",
            "2           1.018846     59.070642  \n",
            "3           3.127948     87.404609  \n",
            "4           2.592256     93.601384  \n",
            "\n",
            "Matriz de correlación:\n",
            "                       Edad     Grado    Becado  Horas de Estudio  \\\n",
            "Edad               1.000000  0.036908 -0.015107          0.056773   \n",
            "Grado              0.036908  1.000000 -0.005426          0.025429   \n",
            "Becado            -0.015107 -0.005426  1.000000          0.649238   \n",
            "Horas de Estudio   0.056773  0.025429  0.649238          1.000000   \n",
            "Horas de Tarea     0.053462  0.066259  0.539012          0.832227   \n",
            "Horas de Tutoring  0.035917  0.035334  0.447241          0.784163   \n",
            "Calificacion       0.068136  0.039076  0.401144          0.822193   \n",
            "\n",
            "                   Horas de Tarea  Horas de Tutoring  Calificacion  \n",
            "Edad                     0.053462           0.035917      0.068136  \n",
            "Grado                    0.066259           0.035334      0.039076  \n",
            "Becado                   0.539012           0.447241      0.401144  \n",
            "Horas de Estudio         0.832227           0.784163      0.822193  \n",
            "Horas de Tarea           1.000000           0.718643      0.806034  \n",
            "Horas de Tutoring        0.718643           1.000000      0.739457  \n",
            "Calificacion             0.806034           0.739457      1.000000  \n"
          ]
        },
        {
          "output_type": "display_data",
          "data": {
            "text/plain": [
              "<Figure size 640x480 with 2 Axes>"
            ],
            "image/png": "[encoded data removed]"
          },
          "metadata": {}
        },
        {
          "output_type": "stream",
          "name": "stdout",
          "text": [
            "\n",
            "Mean Squared Error (MSE): 70.35\n",
            "R-squared (R2): 0.56\n"
          ]
        },
        {
          "output_type": "display_data",
          "data": {
            "text/plain": [
              "<Figure size 640x480 with 1 Axes>"
            ],
            "image/png": "[encoded data removed]"
          },
          "metadata": {}
        }
      ]
    },
    {
      "cell_type": "markdown",
      "source": [],
      "metadata": {
        "id": "akmRBJK8tqOL"
      }
    },
    {
      "cell_type": "markdown",
      "source": [
        "entrenar modelos regresion lineal"
      ],
      "metadata": {
        "id": "5o-VpYspt0C6"
      }
    },
    {
      "cell_type": "code",
      "source": [
        "from sklearn.model_selection import train_test_split\n",
        "from sklearn.linear_model import LinearRegression\n",
        "from sklearn.metrics import mean_squared_error, r2_score\n",
        "import matplotlib.pyplot as plt\n",
        "\n",
        "# Variables predictor y objetivo\n",
        "X = df_num[['Horas de Tarea']]\n",
        "y = df_num['Calificacion']\n",
        "\n",
        "# Dividir en entrenamiento y prueba\n",
        "X_train, X_test, y_train, y_test = train_test_split(X, y, test_size=0.2, random_state=42)\n",
        "\n",
        "# Crear y entrenar modelo\n",
        "model = LinearRegression()\n",
        "model.fit(X_train, y_train)\n",
        "\n",
        "# Predecir\n",
        "y_pred = model.predict(X_test)\n",
        "\n",
        "# Evaluar\n",
        "mse = mean_squared_error(y_test, y_pred)\n",
        "r2 = r2_score(y_test, y_pred)\n",
        "\n",
        "print(f\"Mean Squared Error (MSE): {mse:.2f}\")\n",
        "print(f\"R-squared (R2): {r2:.2f}\")\n",
        "\n",
        "# Graficar resultados\n",
        "plt.scatter(X_test, y_test, color='blue', label='Datos reales')\n",
        "plt.plot(X_test, y_pred, color='red', linewidth=2, label='Predicción')\n",
        "plt.xlabel('Horas de Tarea')\n",
        "plt.ylabel('Calificación')\n",
        "plt.legend()\n",
        "plt.show()\n"
      ],
      "metadata": {
        "id": "xhaZ5FsgtpJb",
        "colab": {
          "base_uri": "https://localhost:8080/",
          "height": 484
        },
        "outputId": "7bd945e4-3c35-4b89-a444-f5762916863c"
      },
      "execution_count": null,
      "outputs": [
        {
          "output_type": "stream",
          "name": "stdout",
          "text": [
            "Mean Squared Error (MSE): 74.62\n",
            "R-squared (R2): 0.53\n"
          ]
        },
        {
          "output_type": "display_data",
          "data": {
            "text/plain": [
              "<Figure size 640x480 with 1 Axes>"
            ],
            "image/png": "[encoded data removed]"
          },
          "metadata": {}
        }
      ]
    },
    {
      "cell_type": "markdown",
      "source": [
        "multiples predictoras"
      ],
      "metadata": {
        "id": "bMZ_C2DtuBbf"
      }
    },
    {
      "cell_type": "code",
      "source": [
        "# Variables predictoras: todas las numéricas menos 'Calificación'\n",
        "##X = df_num.drop(columns=['Calificacion'])\n",
        "\n",
        "# Variable objetivo\n",
        "##y = df_num['Calificacion']\n",
        "\n",
        "\n",
        "\n",
        "\n",
        "\n",
        "# Primero selecciona todas las columnas numéricas\n",
        "df_num = df.select_dtypes(include=['number'])\n",
        "\n",
        "# Verificar los nombres para evitar errores\n",
        "print(df_num.columns.tolist())\n",
        "\n",
        "# Define variables predictoras quitando la columna objetivo\n",
        "X = df_num.drop(columns=['Calificacion'])\n",
        "\n",
        "# Variable objetivo\n",
        "y = df_num['Calificacion']\n",
        "\n",
        "print(\"Variables predictoras (X):\")\n",
        "print(X.head())\n",
        "\n",
        "print(\"\\nVariable objetivo (y):\")\n",
        "print(y.head())\n"
      ],
      "metadata": {
        "colab": {
          "base_uri": "https://localhost:8080/"
        },
        "id": "S1aT2RVjt3TT",
        "outputId": "beaaad20-2251-40d1-b4b9-3f2d6664d1f4"
      },
      "execution_count": null,
      "outputs": [
        {
          "output_type": "stream",
          "name": "stdout",
          "text": [
            "['Edad', 'Grado', 'Becado', 'Horas de Estudio', 'Horas de Tarea', 'Horas de Tutoring', 'Calificacion']\n",
            "Variables predictoras (X):\n",
            "   Edad  Grado  Becado  Horas de Estudio  Horas de Tarea  Horas de Tutoring\n",
            "0    10     10       1          5.448561        4.380500           2.985178\n",
            "1    12      9       0          4.398627        2.641112           2.546036\n",
            "2    17     11       0          3.180663        2.683844           1.018846\n",
            "3    10     10       0          4.217794        3.565105           3.127948\n",
            "4    13      9       0          5.470478        3.703445           2.592256\n",
            "\n",
            "Variable objetivo (y):\n",
            "0    100.000000\n",
            "1     76.201906\n",
            "2     59.070642\n",
            "3     87.404609\n",
            "4     93.601384\n",
            "Name: Calificacion, dtype: float64\n"
          ]
        }
      ]
    },
    {
      "cell_type": "markdown",
      "source": [],
      "metadata": {
        "id": "JACNvtKvuYav"
      }
    },
    {
      "cell_type": "markdown",
      "source": [
        "entrenar modelo con mltiples predictoras\n",
        "\n",
        "\n",
        "\n"
      ],
      "metadata": {
        "id": "jgAqZki7ucvc"
      }
    },
    {
      "cell_type": "code",
      "source": [
        "from sklearn.model_selection import train_test_split\n",
        "from sklearn.linear_model import LinearRegression\n",
        "from sklearn.metrics import mean_squared_error, r2_score\n",
        "import matplotlib.pyplot as plt\n",
        "\n",
        "# Dividir\n",
        "X_train, X_test, y_train, y_test = train_test_split(X, y, test_size=0.2, random_state=42)\n",
        "\n",
        "# Modelo\n",
        "model = LinearRegression()\n",
        "model.fit(X_train, y_train)\n",
        "\n",
        "# Predecir\n",
        "y_pred = model.predict(X_test)\n",
        "\n",
        "# Evaluar\n",
        "mse = mean_squared_error(y_test, y_pred)\n",
        "r2 = r2_score(y_test, y_pred)\n",
        "\n",
        "print(f\"Mean Squared Error (MSE): {mse:.2f}\")\n",
        "print(f\"R-squared (R2): {r2:.2f}\")"
      ],
      "metadata": {
        "colab": {
          "base_uri": "https://localhost:8080/"
        },
        "id": "EJo21BNBuY7_",
        "outputId": "ff7d81db-65be-42e6-ab1a-e619e267f0d4"
      },
      "execution_count": null,
      "outputs": [
        {
          "output_type": "stream",
          "name": "stdout",
          "text": [
            "Mean Squared Error (MSE): 62.61\n",
            "R-squared (R2): 0.60\n"
          ]
        }
      ]
    },
    {
      "cell_type": "markdown",
      "source": [
        "importancia de coeficientes"
      ],
      "metadata": {
        "id": "GQU67xAJuqG2"
      }
    },
    {
      "cell_type": "code",
      "source": [
        "# Mostrar coeficientes\n",
        "coef_df = pd.DataFrame({'Variable': X.columns, 'Coeficiente': model.coef_})\n",
        "print(coef_df.sort_values(by='Coeficiente', ascending=False))\n"
      ],
      "metadata": {
        "colab": {
          "base_uri": "https://localhost:8080/"
        },
        "id": "00S3eKajuslQ",
        "outputId": "994f1111-0dc1-482b-994a-3644cd3e316d"
      },
      "execution_count": null,
      "outputs": [
        {
          "output_type": "stream",
          "name": "stdout",
          "text": [
            "            Variable  Coeficiente\n",
            "3   Horas de Estudio     5.496678\n",
            "4     Horas de Tarea     4.354457\n",
            "5  Horas de Tutoring     1.979478\n",
            "0               Edad    -0.096937\n",
            "1              Grado    -0.117459\n",
            "2             Becado    -6.936574\n"
          ]
        }
      ]
    },
    {
      "cell_type": "markdown",
      "source": [],
      "metadata": {
        "id": "JFA9hvCDuzAL"
      }
    },
    {
      "cell_type": "markdown",
      "source": [
        "rutina probando combinaciones de 2 predictoras"
      ],
      "metadata": {
        "id": "H3J9ul00u3bN"
      }
    },
    {
      "cell_type": "code",
      "source": [
        "import itertools\n",
        "import pandas as pd\n",
        "from sklearn.linear_model import LinearRegression\n",
        "from sklearn.metrics import mean_squared_error, r2_score\n",
        "\n",
        "# df ya está cargado y limpio\n",
        "\n",
        "# Seleccionamos variables numéricas y quito la variable objetivo\n",
        "df_num = df.select_dtypes(include=['number'])\n",
        "X_all = df_num.drop(columns=['Calificacion'])\n",
        "y = df_num['Calificacion']\n",
        "\n",
        "# Lista de nombres de variables predictoras\n",
        "variables = X_all.columns.tolist()\n",
        "\n",
        "resultados = []\n",
        "\n",
        "# Probar todas las combinaciones de 2 variables\n",
        "for combo in itertools.combinations(variables, 2):\n",
        "    X_combo = X_all[list(combo)]\n",
        "\n",
        "    model = LinearRegression()\n",
        "    model.fit(X_combo, y)\n",
        "    y_pred = model.predict(X_combo)\n",
        "\n",
        "    mse = mean_squared_error(y, y_pred)\n",
        "    r2 = r2_score(y, y_pred)\n",
        "\n",
        "    resultados.append({\n",
        "        'Variables': combo,\n",
        "        'MSE': mse,\n",
        "        'R2': r2\n",
        "    })\n",
        "\n",
        "# Mostrar resultados ordenados por mejor R2\n",
        "resultados_df = pd.DataFrame(resultados).sort_values(by='R2', ascending=False).reset_index(drop=True)\n",
        "print(resultados_df)\n"
      ],
      "metadata": {
        "colab": {
          "base_uri": "https://localhost:8080/"
        },
        "id": "zj72f0d4uzhp",
        "outputId": "ae944831-a919-4e3c-acb5-b3bce7c6f2b4"
      },
      "execution_count": null,
      "outputs": [
        {
          "output_type": "stream",
          "name": "stdout",
          "text": [
            "                                Variables         MSE        R2\n",
            "0      (Horas de Estudio, Horas de Tarea)   48.858907  0.724248\n",
            "1              (Becado, Horas de Estudio)   52.017622  0.706421\n",
            "2     (Horas de Tarea, Horas de Tutoring)   52.664760  0.702769\n",
            "3   (Horas de Estudio, Horas de Tutoring)   53.279042  0.699302\n",
            "4                (Edad, Horas de Estudio)   57.325626  0.676463\n",
            "5               (Grado, Horas de Estudio)   57.348939  0.676332\n",
            "6                (Becado, Horas de Tarea)   61.792193  0.651255\n",
            "7                  (Edad, Horas de Tarea)   61.957977  0.650319\n",
            "8                 (Grado, Horas de Tarea)   62.032874  0.649896\n",
            "9             (Becado, Horas de Tutoring)   79.201830  0.552998\n",
            "10              (Edad, Horas de Tutoring)   79.993766  0.548528\n",
            "11             (Grado, Horas de Tutoring)   80.270701  0.546965\n",
            "12                         (Edad, Becado)  147.696805  0.166423\n",
            "13                        (Grado, Becado)  148.370888  0.162619\n",
            "14                          (Edad, Grado)  176.124590  0.005981\n"
          ]
        }
      ]
    },
    {
      "cell_type": "markdown",
      "source": [
        "con gradient boosting"
      ],
      "metadata": {
        "id": "lHItmH0pvPaG"
      }
    },
    {
      "cell_type": "code",
      "source": [
        "import itertools\n",
        "import pandas as pd\n",
        "from sklearn.ensemble import GradientBoostingRegressor\n",
        "from sklearn.metrics import mean_squared_error, r2_score\n",
        "\n",
        "# Asumiendo que df ya está cargado y limpio\n",
        "\n",
        "df_num = df.select_dtypes(include=['number'])\n",
        "X_all = df_num.drop(columns=['Calificacion'])\n",
        "y = df_num['Calificacion']\n",
        "\n",
        "variables = X_all.columns.tolist()\n",
        "\n",
        "resultados = []\n",
        "\n",
        "for combo in itertools.combinations(variables, 2):\n",
        "    X_combo = X_all[list(combo)]\n",
        "\n",
        "    model = GradientBoostingRegressor(random_state=123)\n",
        "    model.fit(X_combo, y)\n",
        "    y_pred = model.predict(X_combo)\n",
        "\n",
        "    mse = mean_squared_error(y, y_pred)\n",
        "    r2 = r2_score(y, y_pred)\n",
        "\n",
        "    resultados.append({\n",
        "        'Variables': combo,\n",
        "        'MSE': mse,\n",
        "        'R2': r2\n",
        "    })\n",
        "\n",
        "resultados_df = pd.DataFrame(resultados).sort_values(by='R2', ascending=False).reset_index(drop=True)\n",
        "print(resultados_df)\n"
      ],
      "metadata": {
        "colab": {
          "base_uri": "https://localhost:8080/"
        },
        "id": "O2gglKGrvQiR",
        "outputId": "8fbb5c96-1507-4507-fa94-345859aa999a"
      },
      "execution_count": null,
      "outputs": [
        {
          "output_type": "stream",
          "name": "stdout",
          "text": [
            "                                Variables         MSE        R2\n",
            "0      (Horas de Estudio, Horas de Tarea)    3.910955  0.977927\n",
            "1   (Horas de Estudio, Horas de Tutoring)    5.695590  0.967855\n",
            "2     (Horas de Tarea, Horas de Tutoring)    9.852424  0.944395\n",
            "3               (Grado, Horas de Estudio)   10.459427  0.940969\n",
            "4                (Edad, Horas de Estudio)   10.487661  0.940809\n",
            "5              (Becado, Horas de Estudio)   11.177739  0.936915\n",
            "6                  (Edad, Horas de Tarea)   20.290250  0.885485\n",
            "7                 (Grado, Horas de Tarea)   20.739326  0.882951\n",
            "8                (Becado, Horas de Tarea)   21.538315  0.878441\n",
            "9             (Becado, Horas de Tutoring)   30.607582  0.827256\n",
            "10              (Edad, Horas de Tutoring)   31.745765  0.820832\n",
            "11             (Grado, Horas de Tutoring)   34.275369  0.806555\n",
            "12                         (Edad, Becado)  146.250775  0.174584\n",
            "13                        (Grado, Becado)  146.957433  0.170596\n",
            "14                          (Edad, Grado)  165.622485  0.065253\n"
          ]
        }
      ]
    },
    {
      "cell_type": "markdown",
      "source": [
        "con hiperparametros"
      ],
      "metadata": {
        "id": "z2X1FJfIveH3"
      }
    },
    {
      "cell_type": "markdown",
      "source": [],
      "metadata": {
        "id": "efQW7PIgvnxb"
      }
    },
    {
      "cell_type": "code",
      "source": [
        "model = GradientBoostingRegressor(\n",
        "    n_estimators=200,      # Número de árboles\n",
        "    learning_rate=0.05,    # Paso de aprendizaje\n",
        "    max_depth=3,           # Profundidad máxima de cada árbol\n",
        "    random_state=123\n",
        ")"
      ],
      "metadata": {
        "id": "Fy0X0lHQvgbo"
      },
      "execution_count": null,
      "outputs": []
    },
    {
      "cell_type": "code",
      "source": [
        "for combo in itertools.combinations(variables, 2):\n",
        "    X_combo = X_all[list(combo)]\n",
        "\n",
        "    model = GradientBoostingRegressor(\n",
        "        n_estimators=200,\n",
        "        learning_rate=0.05,\n",
        "        max_depth=3,\n",
        "        random_state=123\n",
        "    )\n",
        "    model.fit(X_combo, y)\n",
        "    y_pred = model.predict(X_combo)\n",
        "\n",
        "    mse = mean_squared_error(y, y_pred)\n",
        "    r2 = r2_score(y, y_pred)\n",
        "\n",
        "    print(f\"Variables: {combo} - MSE: {mse:.4f} - R2: {r2:.4f}\")\n",
        "\n"
      ],
      "metadata": {
        "colab": {
          "base_uri": "https://localhost:8080/"
        },
        "id": "f33lzVNZwD8J",
        "outputId": "ac624d74-78b9-483b-9daf-3e6520540f7c"
      },
      "execution_count": null,
      "outputs": [
        {
          "output_type": "stream",
          "name": "stdout",
          "text": [
            "Variables: ('Edad', 'Grado') - MSE: 165.3921 - R2: 0.0666\n",
            "Variables: ('Edad', 'Becado') - MSE: 146.2509 - R2: 0.1746\n",
            "Variables: ('Edad', 'Horas de Estudio') - MSE: 10.7768 - R2: 0.9392\n",
            "Variables: ('Edad', 'Horas de Tarea') - MSE: 20.9349 - R2: 0.8818\n",
            "Variables: ('Edad', 'Horas de Tutoring') - MSE: 32.8173 - R2: 0.8148\n",
            "Variables: ('Grado', 'Becado') - MSE: 146.9574 - R2: 0.1706\n",
            "Variables: ('Grado', 'Horas de Estudio') - MSE: 10.7251 - R2: 0.9395\n",
            "Variables: ('Grado', 'Horas de Tarea') - MSE: 21.4405 - R2: 0.8790\n",
            "Variables: ('Grado', 'Horas de Tutoring') - MSE: 34.1683 - R2: 0.8072\n",
            "Variables: ('Becado', 'Horas de Estudio') - MSE: 11.5787 - R2: 0.9347\n",
            "Variables: ('Becado', 'Horas de Tarea') - MSE: 21.9029 - R2: 0.8764\n",
            "Variables: ('Becado', 'Horas de Tutoring') - MSE: 30.6890 - R2: 0.8268\n",
            "Variables: ('Horas de Estudio', 'Horas de Tarea') - MSE: 3.9297 - R2: 0.9778\n",
            "Variables: ('Horas de Estudio', 'Horas de Tutoring') - MSE: 5.8750 - R2: 0.9668\n",
            "Variables: ('Horas de Tarea', 'Horas de Tutoring') - MSE: 9.4633 - R2: 0.9466\n"
          ]
        }
      ]
    },
    {
      "cell_type": "markdown",
      "source": [
        "ahora esto Un modelo con esas dos variables y evaluación con validación cruzada?\n",
        "\n"
      ],
      "metadata": {
        "id": "fnfOvV7HwQSm"
      }
    },
    {
      "cell_type": "code",
      "source": [
        "import pandas as pd\n",
        "from sklearn.ensemble import GradientBoostingRegressor\n",
        "from sklearn.model_selection import cross_val_score, KFold\n",
        "import numpy as np\n",
        "\n",
        "# Variables predictoras\n",
        "X = df[['Horas de Estudio', 'Horas de Tarea']]\n",
        "\n",
        "# Variable objetivo\n",
        "y = df['Calificacion']\n",
        "\n",
        "# Crear modelo\n",
        "model = GradientBoostingRegressor(\n",
        "    n_estimators=200,\n",
        "    learning_rate=0.05,\n",
        "    max_depth=3,\n",
        "    random_state=123\n",
        ")\n",
        "\n",
        "# Validación cruzada con 5 folds, usando R2 como métrica\n",
        "kf = KFold(n_splits=5, shuffle=True, random_state=123)\n",
        "scores = cross_val_score(model, X, y, cv=kf, scoring='r2')\n",
        "\n",
        "print(\"R2 scores en cada fold:\", scores)\n",
        "print(\"R2 promedio:\", np.mean(scores))\n",
        "print(\"Desviación estándar del R2:\", np.std(scores))\n"
      ],
      "metadata": {
        "colab": {
          "base_uri": "https://localhost:8080/"
        },
        "id": "SOweAWROwRVy",
        "outputId": "a7c29268-3d25-4bfc-a464-104575157ace"
      },
      "execution_count": null,
      "outputs": [
        {
          "output_type": "stream",
          "name": "stdout",
          "text": [
            "R2 scores en cada fold: [0.9181861  0.9393809  0.94484308 0.92359808 0.9331879 ]\n",
            "R2 promedio: 0.9318392124877877\n",
            "Desviación estándar del R2: 0.009819575682624567\n"
          ]
        }
      ]
    },
    {
      "cell_type": "markdown",
      "source": [
        "Entrenar el modelo con las variables Horas de Estudio y Horas de Tarea.\n",
        "\n",
        "Hacer predicciones sobre todo el dataset (para que veas cómo queda el modelo ajustado).\n",
        "\n",
        "Calcular métricas (MSE y R²).\n",
        "\n"
      ],
      "metadata": {
        "id": "_lS5uSzYwiLq"
      }
    },
    {
      "cell_type": "code",
      "source": [
        "import pandas as pd\n",
        "from sklearn.ensemble import GradientBoostingRegressor\n",
        "from sklearn.metrics import mean_squared_error, r2_score\n",
        "import matplotlib.pyplot as plt\n",
        "\n",
        "# Variables predictoras\n",
        "X = df[['Horas de Estudio', 'Horas de Tarea']]\n",
        "\n",
        "# Variable objetivo\n",
        "y = df['Calificacion']\n",
        "\n",
        "# Crear y entrenar el modelo\n",
        "model = GradientBoostingRegressor(\n",
        "    n_estimators=200,\n",
        "    learning_rate=0.05,\n",
        "    max_depth=3,\n",
        "    random_state=123\n",
        ")\n",
        "model.fit(X, y)\n",
        "\n",
        "# Hacer predicciones\n",
        "y_pred = model.predict(X)\n",
        "\n",
        "# Calcular métricas\n",
        "mse = mean_squared_error(y, y_pred)\n",
        "r2 = r2_score(y, y_pred)\n",
        "\n",
        "print(f\"Mean Squared Error (MSE): {mse:.2f}\")\n",
        "print(f\"R-squared (R2): {r2:.2f}\")\n",
        "\n",
        "# Graficar resultados: valores reales vs predichos\n",
        "plt.scatter(y, y_pred, alpha=0.7)\n",
        "plt.xlabel(\"Calificación Real\")\n",
        "plt.ylabel(\"Calificación Predicha\")\n",
        "plt.title(\"Valores Reales vs Predichos\")\n",
        "plt.plot([y.min(), y.max()], [y.min(), y.max()], 'r--')  # Línea diagonal perfecta\n",
        "plt.show()\n"
      ],
      "metadata": {
        "colab": {
          "base_uri": "https://localhost:8080/",
          "height": 507
        },
        "id": "P76BLR9_wokO",
        "outputId": "dfacac60-d8b4-4007-9b67-88109e5f8f13"
      },
      "execution_count": null,
      "outputs": [
        {
          "output_type": "stream",
          "name": "stdout",
          "text": [
            "Mean Squared Error (MSE): 3.93\n",
            "R-squared (R2): 0.98\n"
          ]
        },
        {
          "output_type": "display_data",
          "data": {
            "text/plain": [
              "<Figure size 640x480 with 1 Axes>"
            ],
            "image/png": "[encoded data removed]"
          },
          "metadata": {}
        }
      ]
    },
    {
      "cell_type": "markdown",
      "source": [
        "ahora con grid search"
      ],
      "metadata": {
        "id": "ZwUcKRdEw1jx"
      }
    },
    {
      "cell_type": "code",
      "source": [
        "from sklearn.model_selection import GridSearchCV\n",
        "from sklearn.ensemble import GradientBoostingRegressor\n",
        "\n",
        "# Variables predictoras y objetivo\n",
        "X = df[['Horas de Estudio', 'Horas de Tarea']]\n",
        "y = df['Calificacion']\n",
        "\n",
        "# Modelo base\n",
        "model = GradientBoostingRegressor(random_state=123)\n",
        "\n",
        "# Parámetros para probar\n",
        "param_grid = {\n",
        "    'n_estimators': [100, 200],\n",
        "    'learning_rate': [0.01, 0.05, 0.1],\n",
        "    'max_depth': [2, 3, 4]\n",
        "}\n",
        "\n",
        "# Grid Search con 5 folds y R2 como métrica\n",
        "grid_search = GridSearchCV(estimator=model, param_grid=param_grid,\n",
        "                           cv=5, scoring='r2', n_jobs=-1, verbose=1)\n",
        "\n",
        "# Ejecutar búsqueda\n",
        "grid_search.fit(X, y)\n",
        "\n",
        "print(\"Mejores parámetros:\", grid_search.best_params_)\n",
        "print(\"Mejor R2:\", grid_search.best_score_)\n",
        "\n",
        "# Modelo con mejores parámetros\n",
        "best_model = grid_search.best_estimator_\n",
        "\n",
        "# Predicciones con el mejor modelo\n",
        "y_pred = best_model.predict(X)\n",
        "\n",
        "from sklearn.metrics import mean_squared_error, r2_score\n",
        "mse = mean_squared_error(y, y_pred)\n",
        "r2 = r2_score(y, y_pred)\n",
        "\n",
        "print(f\"MSE con mejor modelo: {mse:.2f}\")\n",
        "print(f\"R2 con mejor modelo: {r2:.2f}\")\n"
      ],
      "metadata": {
        "colab": {
          "base_uri": "https://localhost:8080/"
        },
        "id": "rXGxRXYIw30g",
        "outputId": "0db81853-9591-499c-e3f9-c17521f18c8a"
      },
      "execution_count": null,
      "outputs": [
        {
          "output_type": "stream",
          "name": "stdout",
          "text": [
            "Fitting 5 folds for each of 18 candidates, totalling 90 fits\n",
            "Mejores parámetros: {'learning_rate': 0.05, 'max_depth': 3, 'n_estimators': 100}\n",
            "Mejor R2: 0.9339315789452135\n",
            "MSE con mejor modelo: 5.24\n",
            "R2 con mejor modelo: 0.97\n"
          ]
        }
      ]
    },
    {
      "cell_type": "markdown",
      "source": [
        "PCA REDUCCION COMPONENTES PRINCIPALES"
      ],
      "metadata": {
        "id": "JV5JU1q2xB9X"
      }
    },
    {
      "cell_type": "code",
      "source": [
        "from sklearn.model_selection import train_test_split\n",
        "from sklearn.preprocessing import StandardScaler\n",
        "from sklearn.decomposition import PCA\n",
        "from sklearn.ensemble import GradientBoostingRegressor\n",
        "from sklearn.metrics import mean_squared_error, r2_score\n",
        "\n",
        "# Variables numéricas y objetivo\n",
        "df_num = df.select_dtypes(include=['number'])\n",
        "X_all = df_num.drop(columns=['Calificacion'])\n",
        "y = df_num['Calificacion']\n",
        "\n",
        "# Dividir datos en train y test (70%-30%)\n",
        "X_train, X_test, y_train, y_test = train_test_split(\n",
        "    X_all, y, test_size=0.3, random_state=123\n",
        ")\n",
        "\n",
        "# Estandarizar con fit solo en train, luego transformar test\n",
        "scaler = StandardScaler()\n",
        "X_train_scaled = scaler.fit_transform(X_train)\n",
        "X_test_scaled = scaler.transform(X_test)\n",
        "\n",
        "# Aplicar PCA con número de componentes que expliquen 90% varianza (calculado solo con train)\n",
        "pca = PCA()\n",
        "pca.fit(X_train_scaled)\n",
        "var_exp_acum = pca.explained_variance_ratio_.cumsum()\n",
        "n_components = (var_exp_acum >= 0.9).argmax() + 1\n",
        "\n",
        "# Reducir dimensionalidad con n_components\n",
        "pca = PCA(n_components=n_components)\n",
        "X_train_pca = pca.fit_transform(X_train_scaled)\n",
        "X_test_pca = pca.transform(X_test_scaled)\n",
        "\n",
        "# Crear y entrenar el modelo Gradient Boosting\n",
        "model = GradientBoostingRegressor(\n",
        "     ##n_estimators=200,\n",
        "     n_estimators=100,\n",
        "     learning_rate=0.05,\n",
        "     max_depth=3,\n",
        "     random_state=123\n",
        "\n",
        "\n",
        ")\n",
        "model.fit(X_train_pca, y_train)\n",
        "\n",
        "# Predecir en test\n",
        "y_pred = model.predict(X_test_pca)\n",
        "\n",
        "# Métricas\n",
        "mse = mean_squared_error(y_test, y_pred)\n",
        "r2 = r2_score(y_test, y_pred)\n",
        "\n",
        "print(f\"MSE en test: {mse:.2f}\")\n",
        "print(f\"R2 en test: {r2:.2f}\")\n"
      ],
      "metadata": {
        "colab": {
          "base_uri": "https://localhost:8080/"
        },
        "id": "SvSB7HVrxC4j",
        "outputId": "6c163af5-de75-4975-bc21-9edfa378381c"
      },
      "execution_count": null,
      "outputs": [
        {
          "output_type": "stream",
          "name": "stdout",
          "text": [
            "MSE en test: 8.68\n",
            "R2 en test: 0.94\n"
          ]
        }
      ]
    }
  ]
}