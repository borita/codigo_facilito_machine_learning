{
  "nbformat": 4,
  "nbformat_minor": 0,
  "metadata": {
    "colab": {
      "provenance": [],
      "authorship_tag": "ABX9TyNuUVR5jKyDEZzx+of7AU8D",
      "include_colab_link": true
    },
    "kernelspec": {
      "name": "python3",
      "display_name": "Python 3"
    },
    "language_info": {
      "name": "python"
    }
  },
  "cells": [
    {
      "cell_type": "markdown",
      "metadata": {
        "id": "view-in-github",
        "colab_type": "text"
      },
      "source": [
        "<a href=\"https://colab.research.google.com/github/borita/codigo_facilito_machine_learning/blob/main/proyecto_final_clasificacion_.ipynb\" target=\"_parent\"><img src=\"https://colab.research.google.com/assets/colab-badge.svg\" alt=\"Open In Colab\"/></a>"
      ]
    },
    {
      "cell_type": "markdown",
      "source": [
        "clasificacion Gradient Boosting"
      ],
      "metadata": {
        "id": "RKf10_5Mxwk1"
      }
    },
    {
      "cell_type": "markdown",
      "source": [
        "cargar archivos previamente generados"
      ],
      "metadata": {
        "id": "8JndKK2bKhY9"
      }
    },
    {
      "cell_type": "code",
      "source": [
        "from google.colab import files\n",
        "import pandas as pd\n",
        "\n",
        "# Paso 1: Subir archivos desde PC local\n",
        "uploaded = files.upload()\n",
        "\n",
        "# Paso 2: Leer  archivos uploads\n",
        "df = pd.read_csv('mes_1.txt')\n",
        "print(df.head())\n",
        "\n",
        "# Paso 3: Guardar un archivo resultado y descargarlo a PC\n",
        "df.to_csv('resultado.csv', index=False)\n",
        "files.download('resultado.csv')"
      ],
      "metadata": {
        "colab": {
          "base_uri": "https://localhost:8080/",
          "height": 298
        },
        "id": "DYX8Ratc6aAK",
        "outputId": "29bed492-c0de-4d9c-fcdd-39e885f3be0a"
      },
      "execution_count": null,
      "outputs": [
        {
          "output_type": "display_data",
          "data": {
            "text/plain": [
              "<IPython.core.display.HTML object>"
            ],
            "text/html": [
              "\n",
              "     <input type=\"file\" id=\"files-a754340a-e80f-450b-b8b5-519c9635b622\" name=\"files[]\" multiple disabled\n",
              "        style=\"border:none\" />\n",
              "     <output id=\"result-a754340a-e80f-450b-b8b5-519c9635b622\">\n",
              "      Upload widget is only available when the cell has been executed in the\n",
              "      current browser session. Please rerun this cell to enable.\n",
              "      </output>\n",
              "      <script>// Copyright 2017 Google LLC\n",
              "//\n",
              "// Licensed under the Apache License, Version 2.0 (the \"License\");\n",
              "// you may not use this file except in compliance with the License.\n",
              "// You may obtain a copy of the License at\n",
              "//\n",
              "//      http://www.apache.org/licenses/LICENSE-2.0\n",
              "//\n",
              "// Unless required by applicable law or agreed to in writing, software\n",
              "// distributed under the License is distributed on an \"AS IS\" BASIS,\n",
              "// WITHOUT WARRANTIES OR CONDITIONS OF ANY KIND, either express or implied.\n",
              "// See the License for the specific language governing permissions and\n",
              "// limitations under the License.\n",
              "\n",
              "/**\n",
              " * @fileoverview Helpers for google.colab Python module.\n",
              " */\n",
              "(function(scope) {\n",
              "function span(text, styleAttributes = {}) {\n",
              "  const element = document.createElement('span');\n",
              "  element.textContent = text;\n",
              "  for (const key of Object.keys(styleAttributes)) {\n",
              "    element.style[key] = styleAttributes[key];\n",
              "  }\n",
              "  return element;\n",
              "}\n",
              "\n",
              "// Max number of bytes which will be uploaded at a time.\n",
              "const MAX_PAYLOAD_SIZE = 100 * 1024;\n",
              "\n",
              "function _uploadFiles(inputId, outputId) {\n",
              "  const steps = uploadFilesStep(inputId, outputId);\n",
              "  const outputElement = document.getElementById(outputId);\n",
              "  // Cache steps on the outputElement to make it available for the next call\n",
              "  // to uploadFilesContinue from Python.\n",
              "  outputElement.steps = steps;\n",
              "\n",
              "  return _uploadFilesContinue(outputId);\n",
              "}\n",
              "\n",
              "// This is roughly an async generator (not supported in the browser yet),\n",
              "// where there are multiple asynchronous steps and the Python side is going\n",
              "// to poll for completion of each step.\n",
              "// This uses a Promise to block the python side on completion of each step,\n",
              "// then passes the result of the previous step as the input to the next step.\n",
              "function _uploadFilesContinue(outputId) {\n",
              "  const outputElement = document.getElementById(outputId);\n",
              "  const steps = outputElement.steps;\n",
              "\n",
              "  const next = steps.next(outputElement.lastPromiseValue);\n",
              "  return Promise.resolve(next.value.promise).then((value) => {\n",
              "    // Cache the last promise value to make it available to the next\n",
              "    // step of the generator.\n",
              "    outputElement.lastPromiseValue = value;\n",
              "    return next.value.response;\n",
              "  });\n",
              "}\n",
              "\n",
              "/**\n",
              " * Generator function which is called between each async step of the upload\n",
              " * process.\n",
              " * @param {string} inputId Element ID of the input file picker element.\n",
              " * @param {string} outputId Element ID of the output display.\n",
              " * @return {!Iterable<!Object>} Iterable of next steps.\n",
              " */\n",
              "function* uploadFilesStep(inputId, outputId) {\n",
              "  const inputElement = document.getElementById(inputId);\n",
              "  inputElement.disabled = false;\n",
              "\n",
              "  const outputElement = document.getElementById(outputId);\n",
              "  outputElement.innerHTML = '';\n",
              "\n",
              "  const pickedPromise = new Promise((resolve) => {\n",
              "    inputElement.addEventListener('change', (e) => {\n",
              "      resolve(e.target.files);\n",
              "    });\n",
              "  });\n",
              "\n",
              "  const cancel = document.createElement('button');\n",
              "  inputElement.parentElement.appendChild(cancel);\n",
              "  cancel.textContent = 'Cancel upload';\n",
              "  const cancelPromise = new Promise((resolve) => {\n",
              "    cancel.onclick = () => {\n",
              "      resolve(null);\n",
              "    };\n",
              "  });\n",
              "\n",
              "  // Wait for the user to pick the files.\n",
              "  const files = yield {\n",
              "    promise: Promise.race([pickedPromise, cancelPromise]),\n",
              "    response: {\n",
              "      action: 'starting',\n",
              "    }\n",
              "  };\n",
              "\n",
              "  cancel.remove();\n",
              "\n",
              "  // Disable the input element since further picks are not allowed.\n",
              "  inputElement.disabled = true;\n",
              "\n",
              "  if (!files) {\n",
              "    return {\n",
              "      response: {\n",
              "        action: 'complete',\n",
              "      }\n",
              "    };\n",
              "  }\n",
              "\n",
              "  for (const file of files) {\n",
              "    const li = document.createElement('li');\n",
              "    li.append(span(file.name, {fontWeight: 'bold'}));\n",
              "    li.append(span(\n",
              "        `(${file.type || 'n/a'}) - ${file.size} bytes, ` +\n",
              "        `last modified: ${\n",
              "            file.lastModifiedDate ? file.lastModifiedDate.toLocaleDateString() :\n",
              "                                    'n/a'} - `));\n",
              "    const percent = span('0% done');\n",
              "    li.appendChild(percent);\n",
              "\n",
              "    outputElement.appendChild(li);\n",
              "\n",
              "    const fileDataPromise = new Promise((resolve) => {\n",
              "      const reader = new FileReader();\n",
              "      reader.onload = (e) => {\n",
              "        resolve(e.target.result);\n",
              "      };\n",
              "      reader.readAsArrayBuffer(file);\n",
              "    });\n",
              "    // Wait for the data to be ready.\n",
              "    let fileData = yield {\n",
              "      promise: fileDataPromise,\n",
              "      response: {\n",
              "        action: 'continue',\n",
              "      }\n",
              "    };\n",
              "\n",
              "    // Use a chunked sending to avoid message size limits. See b/62115660.\n",
              "    let position = 0;\n",
              "    do {\n",
              "      const length = Math.min(fileData.byteLength - position, MAX_PAYLOAD_SIZE);\n",
              "      const chunk = new Uint8Array(fileData, position, length);\n",
              "      position += length;\n",
              "\n",
              "      const base64 = btoa(String.fromCharCode.apply(null, chunk));\n",
              "      yield {\n",
              "        response: {\n",
              "          action: 'append',\n",
              "          file: file.name,\n",
              "          data: base64,\n",
              "        },\n",
              "      };\n",
              "\n",
              "      let percentDone = fileData.byteLength === 0 ?\n",
              "          100 :\n",
              "          Math.round((position / fileData.byteLength) * 100);\n",
              "      percent.textContent = `${percentDone}% done`;\n",
              "\n",
              "    } while (position < fileData.byteLength);\n",
              "  }\n",
              "\n",
              "  // All done.\n",
              "  yield {\n",
              "    response: {\n",
              "      action: 'complete',\n",
              "    }\n",
              "  };\n",
              "}\n",
              "\n",
              "scope.google = scope.google || {};\n",
              "scope.google.colab = scope.google.colab || {};\n",
              "scope.google.colab._files = {\n",
              "  _uploadFiles,\n",
              "  _uploadFilesContinue,\n",
              "};\n",
              "})(self);\n",
              "</script> "
            ]
          },
          "metadata": {}
        },
        {
          "output_type": "stream",
          "name": "stdout",
          "text": [
            "Saving mes_1.txt to mes_1 (3).txt\n",
            "     ID Genero  Edad  Grado  Becado  Horas de Estudio  Horas de Tarea  \\\n",
            "0  S001      M    10     10       1          5.448561        4.380500   \n",
            "1  S002      F    12      9       0          4.398627        2.641112   \n",
            "2  S003      M    17     11       0          3.180663        2.683844   \n",
            "3  S004      M    10     10       0          4.217794        3.565105   \n",
            "4  S005      M    13      9       0          5.470478        3.703445   \n",
            "\n",
            "   Horas de Tutoring  Calificacion  \n",
            "0           2.985178    100.000000  \n",
            "1           2.546036     76.201906  \n",
            "2           1.018846     59.070642  \n",
            "3           3.127948     87.404609  \n",
            "4           2.592256     93.601384  \n"
          ]
        },
        {
          "output_type": "display_data",
          "data": {
            "text/plain": [
              "<IPython.core.display.Javascript object>"
            ],
            "application/javascript": [
              "\n",
              "    async function download(id, filename, size) {\n",
              "      if (!google.colab.kernel.accessAllowed) {\n",
              "        return;\n",
              "      }\n",
              "      const div = document.createElement('div');\n",
              "      const label = document.createElement('label');\n",
              "      label.textContent = `Downloading \"${filename}\": `;\n",
              "      div.appendChild(label);\n",
              "      const progress = document.createElement('progress');\n",
              "      progress.max = size;\n",
              "      div.appendChild(progress);\n",
              "      document.body.appendChild(div);\n",
              "\n",
              "      const buffers = [];\n",
              "      let downloaded = 0;\n",
              "\n",
              "      const channel = await google.colab.kernel.comms.open(id);\n",
              "      // Send a message to notify the kernel that we're ready.\n",
              "      channel.send({})\n",
              "\n",
              "      for await (const message of channel.messages) {\n",
              "        // Send a message to notify the kernel that we're ready.\n",
              "        channel.send({})\n",
              "        if (message.buffers) {\n",
              "          for (const buffer of message.buffers) {\n",
              "            buffers.push(buffer);\n",
              "            downloaded += buffer.byteLength;\n",
              "            progress.value = downloaded;\n",
              "          }\n",
              "        }\n",
              "      }\n",
              "      const blob = new Blob(buffers, {type: 'application/binary'});\n",
              "      const a = document.createElement('a');\n",
              "      a.href = window.URL.createObjectURL(blob);\n",
              "      a.download = filename;\n",
              "      div.appendChild(a);\n",
              "      a.click();\n",
              "      div.remove();\n",
              "    }\n",
              "  "
            ]
          },
          "metadata": {}
        },
        {
          "output_type": "display_data",
          "data": {
            "text/plain": [
              "<IPython.core.display.Javascript object>"
            ],
            "application/javascript": [
              "download(\"download_cd739b17-0e7f-4f1c-8430-cb7c1b71eea9\", \"resultado.csv\", 41089)"
            ]
          },
          "metadata": {}
        }
      ]
    },
    {
      "cell_type": "markdown",
      "source": [],
      "metadata": {
        "id": "nN6MFIif6bDL"
      }
    },
    {
      "cell_type": "code",
      "execution_count": null,
      "metadata": {
        "colab": {
          "base_uri": "https://localhost:8080/"
        },
        "id": "qUXb3yTVxfUV",
        "outputId": "3f11ddd8-73d0-4c4b-845c-f40c2de15862"
      },
      "outputs": [
        {
          "output_type": "stream",
          "name": "stdout",
          "text": [
            "Fitting 5 folds for each of 18 candidates, totalling 90 fits\n",
            "Mejores parámetros: {'learning_rate': 0.05, 'max_depth': 2, 'n_estimators': 100}\n",
            "Mejor accuracy en CV: 0.9775\n",
            "\n",
            "Accuracy en test: 0.98\n",
            "Precision en test: 0.9804123711340206\n",
            "Recall en test: 0.98\n",
            "F1 score en test: 0.9776041666666667\n",
            "\n",
            "Matriz de confusión:\n",
            " [[95  0]\n",
            " [ 2  3]]\n",
            "\n",
            "Reporte de clasificación:\n",
            "               precision    recall  f1-score   support\n",
            "\n",
            "    Aprobado       0.98      1.00      0.99        95\n",
            "   Reprobado       1.00      0.60      0.75         5\n",
            "\n",
            "    accuracy                           0.98       100\n",
            "   macro avg       0.99      0.80      0.87       100\n",
            "weighted avg       0.98      0.98      0.98       100\n",
            "\n"
          ]
        }
      ],
      "source": [
        "import pandas as pd\n",
        "from sklearn.ensemble import GradientBoostingClassifier\n",
        "from sklearn.model_selection import train_test_split, GridSearchCV\n",
        "from sklearn.metrics import accuracy_score, precision_score, recall_score, f1_score, confusion_matrix, classification_report\n",
        "\n",
        "# 1. Leer archivo y limpiar nombres\n",
        "df = pd.read_csv(\"mes_1.txt\")\n",
        "df.columns = df.columns.str.strip()\n",
        "\n",
        "# 2. Crear Paso al vuelo según Calificacion\n",
        "if \"Paso\" not in df.columns:\n",
        "    if \"Calificacion\" in df.columns:\n",
        "        df[\"Paso\"] = df[\"Calificacion\"].apply(lambda x: \"Sí\" if x >= 60 else \"No\")\n",
        "    else:\n",
        "        df[\"Paso\"] = \"Sí\"  # valor por defecto\n",
        "\n",
        "# 3. Crear variable Aprobó\n",
        "df[\"Aprobó\"] = df[\"Paso\"].map({\"Sí\": \"Aprobado\", \"No\": \"Reprobado\"})\n",
        "\n",
        "# 4. Variables predictoras y objetivo\n",
        "# Excluir 'Paso' y 'Calificacion' para evitar data leakage\n",
        "X = df.select_dtypes(include=[\"number\"]).drop(columns=[\"Paso\", \"Calificacion\"], errors=\"ignore\")\n",
        "y = df[\"Aprobó\"]\n",
        "\n",
        "# 5. División train/test\n",
        "X_train, X_test, y_train, y_test = train_test_split(\n",
        "    X, y, test_size=0.2, random_state=42\n",
        ")\n",
        "\n",
        "# 6. Modelo base\n",
        "model = GradientBoostingClassifier(random_state=42)\n",
        "\n",
        "# 7. Grid Search de hiperparámetros\n",
        "param_grid = {\n",
        "    'n_estimators': [100, 200],\n",
        "    'learning_rate': [0.01, 0.05, 0.1],\n",
        "    'max_depth': [2, 3, 4]\n",
        "}\n",
        "grid_search = GridSearchCV(model, param_grid, cv=5, scoring='accuracy', n_jobs=-1, verbose=1)\n",
        "grid_search.fit(X_train, y_train)\n",
        "\n",
        "# 8. Mejor modelo\n",
        "best_model = grid_search.best_estimator_\n",
        "y_pred = best_model.predict(X_test)\n",
        "\n",
        "# 9. Métricas\n",
        "print(\"Mejores parámetros:\", grid_search.best_params_)\n",
        "print(f\"Mejor accuracy en CV: {grid_search.best_score_:.4f}\\n\")\n",
        "\n",
        "print(\"Accuracy en test:\", accuracy_score(y_test, y_pred))\n",
        "print(\"Precision en test:\", precision_score(y_test, y_pred, average='weighted'))\n",
        "print(\"Recall en test:\", recall_score(y_test, y_pred, average='weighted'))\n",
        "print(\"F1 score en test:\", f1_score(y_test, y_pred, average='weighted'))\n",
        "print(\"\\nMatriz de confusión:\\n\", confusion_matrix(y_test, y_pred))\n",
        "print(\"\\nReporte de clasificación:\\n\", classification_report(y_test, y_pred))\n",
        "\n"
      ]
    },
    {
      "cell_type": "markdown",
      "source": [
        "mejora con balance o por clase //// entrenamiento sin balanceo  ////"
      ],
      "metadata": {
        "id": "UkpsoY5jy5RP"
      }
    },
    {
      "cell_type": "code",
      "source": [
        "df.info()"
      ],
      "metadata": {
        "colab": {
          "base_uri": "https://localhost:8080/"
        },
        "id": "E8Ez_rJXTiIW",
        "outputId": "a049ddaf-382f-47e6-b7e7-e41ebbd64082"
      },
      "execution_count": null,
      "outputs": [
        {
          "output_type": "stream",
          "name": "stdout",
          "text": [
            "<class 'pandas.core.frame.DataFrame'>\n",
            "RangeIndex: 500 entries, 0 to 499\n",
            "Data columns (total 11 columns):\n",
            " #   Column             Non-Null Count  Dtype  \n",
            "---  ------             --------------  -----  \n",
            " 0   ID                 500 non-null    object \n",
            " 1   Genero             500 non-null    object \n",
            " 2   Edad               500 non-null    int64  \n",
            " 3   Grado              500 non-null    int64  \n",
            " 4   Becado             500 non-null    int64  \n",
            " 5   Horas de Estudio   500 non-null    float64\n",
            " 6   Horas de Tarea     500 non-null    float64\n",
            " 7   Horas de Tutoring  500 non-null    float64\n",
            " 8   Calificacion       500 non-null    float64\n",
            " 9   Paso               500 non-null    object \n",
            " 10  Aprobó             500 non-null    object \n",
            "dtypes: float64(4), int64(3), object(4)\n",
            "memory usage: 43.1+ KB\n"
          ]
        }
      ]
    },
    {
      "cell_type": "code",
      "source": [
        "import pandas as pd\n",
        "from sklearn.ensemble import GradientBoostingClassifier\n",
        "from sklearn.model_selection import train_test_split, GridSearchCV\n",
        "from sklearn.metrics import accuracy_score, precision_score, recall_score, f1_score, confusion_matrix, classification_report\n",
        "\n",
        "# 1. Leer archivo y limpiar nombres\n",
        "df = pd.read_csv(\"mes_1.txt\")\n",
        "df.columns = df.columns.str.strip()\n",
        "\n",
        "# 2. Crear Paso al vuelo según Calificacion\n",
        "if \"Paso\" not in df.columns:\n",
        "    if \"Calificacion\" in df.columns:\n",
        "        df[\"Paso\"] = df[\"Calificacion\"].apply(lambda x: \"Sí\" if x >= 60 else \"No\")\n",
        "    else:\n",
        "        df[\"Paso\"] = \"Sí\"\n",
        "\n",
        "# 3. Crear variable Aprobó\n",
        "df[\"Aprobó\"] = df[\"Paso\"].map({\"Sí\": \"Aprobado\", \"No\": \"Reprobado\"})\n",
        "\n",
        "# 4. Variables predictoras y objetivo (excluyendo Calificacion para evitar data leakage)\n",
        "X = df.select_dtypes(include=[\"number\"]).drop(columns=[\"Paso\", \"Calificacion\"], errors=\"ignore\")\n",
        "y = df[\"Aprobó\"]\n",
        "\n",
        "# 5. División train/test\n",
        "X_train, X_test, y_train, y_test = train_test_split(\n",
        "    X, y, test_size=0.2, random_state=42, stratify=y  # stratify mantiene proporción de clases\n",
        ")\n",
        "\n",
        "# 6. Modelo con ajuste de peso de clases\n",
        "model = GradientBoostingClassifier(random_state=42)\n",
        "\n",
        "# 7. Grid Search\n",
        "param_grid = {\n",
        "    'n_estimators': [100, 200],\n",
        "    'learning_rate': [0.01, 0.05, 0.1],\n",
        "    'max_depth': [2, 3, 4]\n",
        "}\n",
        "grid_search = GridSearchCV(model, param_grid, cv=5, scoring='accuracy', n_jobs=-1, verbose=1)\n",
        "grid_search.fit(X_train, y_train)\n",
        "\n",
        "# 8. Mejor modelo\n",
        "best_model = grid_search.best_estimator_\n",
        "y_pred = best_model.predict(X_test)\n",
        "\n",
        "# 9. Ajustar threshold para favorecer Reprobado (opcional)\n",
        "# proba = best_model.predict_proba(X_test)\n",
        "# threshold = 0.3  # reducir para favorecer minoritaria\n",
        "# y_pred = [best_model.classes_[1] if p[1]>=threshold else best_model.classes_[0] for p in proba]\n",
        "\n",
        "# 10. Métricas\n",
        "print(\"Mejores parámetros:\", grid_search.best_params_)\n",
        "print(f\"Mejor accuracy en CV: {grid_search.best_score_:.4f}\\n\")\n",
        "\n",
        "print(\"Accuracy en test:\", accuracy_score(y_test, y_pred))\n",
        "print(\"Precision en test:\", precision_score(y_test, y_pred, average='weighted'))\n",
        "print(\"Recall en test:\", recall_score(y_test, y_pred, average='weighted'))\n",
        "print(\"F1 score en test:\", f1_score(y_test, y_pred, average='weighted'))\n",
        "print(\"\\nMatriz de confusión:\\n\", confusion_matrix(y_test, y_pred))\n",
        "print(\"\\nReporte de clasificación:\\n\", classification_report(y_test, y_pred))\n"
      ],
      "metadata": {
        "id": "Cvh82zEny6Tc",
        "colab": {
          "base_uri": "https://localhost:8080/"
        },
        "outputId": "d3b24b15-2f5c-4c3f-b20a-a9d92a468549"
      },
      "execution_count": null,
      "outputs": [
        {
          "output_type": "stream",
          "name": "stdout",
          "text": [
            "Fitting 5 folds for each of 18 candidates, totalling 90 fits\n",
            "Mejores parámetros: {'learning_rate': 0.01, 'max_depth': 3, 'n_estimators': 200}\n",
            "Mejor accuracy en CV: 0.9775\n",
            "\n",
            "Accuracy en test: 0.97\n",
            "Precision en test: 0.9828571428571429\n",
            "Recall en test: 0.97\n",
            "F1 score en test: 0.9738528138528137\n",
            "\n",
            "Matriz de confusión:\n",
            " [[93  3]\n",
            " [ 0  4]]\n",
            "\n",
            "Reporte de clasificación:\n",
            "               precision    recall  f1-score   support\n",
            "\n",
            "    Aprobado       1.00      0.97      0.98        96\n",
            "   Reprobado       0.57      1.00      0.73         4\n",
            "\n",
            "    accuracy                           0.97       100\n",
            "   macro avg       0.79      0.98      0.86       100\n",
            "weighted avg       0.98      0.97      0.97       100\n",
            "\n"
          ]
        }
      ]
    },
    {
      "cell_type": "code",
      "source": [
        "df.info()"
      ],
      "metadata": {
        "colab": {
          "base_uri": "https://localhost:8080/"
        },
        "id": "z20-nwX8To1z",
        "outputId": "e63c4ce1-9ef5-4521-ad5a-3a5c8500a360"
      },
      "execution_count": null,
      "outputs": [
        {
          "output_type": "stream",
          "name": "stdout",
          "text": [
            "<class 'pandas.core.frame.DataFrame'>\n",
            "RangeIndex: 500 entries, 0 to 499\n",
            "Data columns (total 11 columns):\n",
            " #   Column             Non-Null Count  Dtype  \n",
            "---  ------             --------------  -----  \n",
            " 0   ID                 500 non-null    object \n",
            " 1   Genero             500 non-null    object \n",
            " 2   Edad               500 non-null    int64  \n",
            " 3   Grado              500 non-null    int64  \n",
            " 4   Becado             500 non-null    int64  \n",
            " 5   Horas de Estudio   500 non-null    float64\n",
            " 6   Horas de Tarea     500 non-null    float64\n",
            " 7   Horas de Tutoring  500 non-null    float64\n",
            " 8   Calificacion       500 non-null    float64\n",
            " 9   Paso               500 non-null    object \n",
            " 10  Aprobó             500 non-null    object \n",
            "dtypes: float64(4), int64(3), object(4)\n",
            "memory usage: 43.1+ KB\n"
          ]
        }
      ]
    },
    {
      "cell_type": "markdown",
      "source": [
        "con HIPERPARAMETROS incluye balanceo"
      ],
      "metadata": {
        "id": "GW-k9ijhzD-L"
      }
    },
    {
      "cell_type": "code",
      "source": [
        "import pandas as pd\n",
        "from sklearn.ensemble import GradientBoostingClassifier\n",
        "from sklearn.model_selection import train_test_split, GridSearchCV\n",
        "from sklearn.metrics import accuracy_score, precision_score, recall_score, f1_score, confusion_matrix, classification_report\n",
        "from imblearn.over_sampling import SMOTE\n",
        "\n",
        "# 1. Leer archivo y limpiar nombres\n",
        "df = pd.read_csv(\"mes_1.txt\")\n",
        "df.columns = df.columns.str.strip()  # quitar espacios\n",
        "\n",
        "# 2. Crear Paso al vuelo si no existe\n",
        "if \"Paso\" not in df.columns:\n",
        "    if \"Calificacion\" in df.columns:\n",
        "        df[\"Paso\"] = df[\"Calificacion\"].apply(lambda x: \"Sí\" if x >= 60 else \"No\")\n",
        "    else:\n",
        "        df[\"Paso\"] = \"Sí\"\n",
        "\n",
        "# 3. Variables predictoras y objetivo (sin Calificacion para evitar data leakage)\n",
        "X = df.select_dtypes(include=[\"number\"]).drop(columns=[\"Paso\", \"Calificacion\"], errors=\"ignore\")\n",
        "y = df[\"Paso\"]\n",
        "\n",
        "# 4. División en train/test con estratificación\n",
        "X_train, X_test, y_train, y_test = train_test_split(\n",
        "    X, y, test_size=0.2, random_state=42, stratify=y\n",
        ")\n",
        "\n",
        "# 5. Balanceo de clases en entrenamiento\n",
        "smote = SMOTE(random_state=42)\n",
        "X_train_res, y_train_res = smote.fit_resample(X_train, y_train)\n",
        "\n",
        "# 6. Modelo base\n",
        "model = GradientBoostingClassifier(random_state=42)\n",
        "\n",
        "# 7. Parámetros para Grid Search\n",
        "param_grid = {\n",
        "    'n_estimators': [100, 200],\n",
        "    'learning_rate': [0.01, 0.05, 0.1],\n",
        "    'max_depth': [2, 3, 4]\n",
        "}\n",
        "\n",
        "# 8. Configurar GridSearchCV\n",
        "grid_search = GridSearchCV(model, param_grid, cv=5, scoring='accuracy', n_jobs=-1, verbose=1)\n",
        "grid_search.fit(X_train_res, y_train_res)\n",
        "\n",
        "# 9. Mejor modelo\n",
        "best_model = grid_search.best_estimator_\n",
        "y_pred = best_model.predict(X_test)\n",
        "\n",
        "# 10. Métricas\n",
        "print(\"Mejores parámetros:\", grid_search.best_params_)\n",
        "print(f\"Mejor accuracy en CV: {grid_search.best_score_:.4f}\\n\")\n",
        "\n",
        "print(\"Accuracy en test:\", accuracy_score(y_test, y_pred))\n",
        "print(\"Precision en test:\", precision_score(y_test, y_pred, average='weighted'))\n",
        "print(\"Recall en test:\", recall_score(y_test, y_pred, average='weighted'))\n",
        "print(\"F1 score en test:\", f1_score(y_test, y_pred, average='weighted'))\n",
        "print(\"\\nMatriz de confusión:\\n\", confusion_matrix(y_test, y_pred))\n",
        "print(\"\\nReporte de clasificación:\\n\", classification_report(y_test, y_pred))\n",
        "\n"
      ],
      "metadata": {
        "id": "HglJSZZhzFJ8",
        "colab": {
          "base_uri": "https://localhost:8080/"
        },
        "outputId": "2c23a379-cb9d-427a-89e9-0616f5b52789"
      },
      "execution_count": null,
      "outputs": [
        {
          "output_type": "stream",
          "name": "stdout",
          "text": [
            "Fitting 5 folds for each of 18 candidates, totalling 90 fits\n",
            "Mejores parámetros: {'learning_rate': 0.1, 'max_depth': 2, 'n_estimators': 200}\n",
            "Mejor accuracy en CV: 0.9882\n",
            "\n",
            "Accuracy en test: 0.98\n",
            "Precision en test: 0.9866666666666667\n",
            "Recall en test: 0.98\n",
            "F1 score en test: 0.9818947368421053\n",
            "\n",
            "Matriz de confusión:\n",
            " [[ 4  0]\n",
            " [ 2 94]]\n",
            "\n",
            "Reporte de clasificación:\n",
            "               precision    recall  f1-score   support\n",
            "\n",
            "          No       0.67      1.00      0.80         4\n",
            "          Sí       1.00      0.98      0.99        96\n",
            "\n",
            "    accuracy                           0.98       100\n",
            "   macro avg       0.83      0.99      0.89       100\n",
            "weighted avg       0.99      0.98      0.98       100\n",
            "\n"
          ]
        }
      ]
    },
    {
      "cell_type": "code",
      "source": [
        "df.info()"
      ],
      "metadata": {
        "id": "o4USZNuezO_V",
        "colab": {
          "base_uri": "https://localhost:8080/"
        },
        "outputId": "f2299d85-36a2-4236-98e1-eaad0f4ba83a"
      },
      "execution_count": null,
      "outputs": [
        {
          "output_type": "stream",
          "name": "stdout",
          "text": [
            "<class 'pandas.core.frame.DataFrame'>\n",
            "RangeIndex: 500 entries, 0 to 499\n",
            "Data columns (total 10 columns):\n",
            " #   Column             Non-Null Count  Dtype  \n",
            "---  ------             --------------  -----  \n",
            " 0   ID                 500 non-null    object \n",
            " 1   Genero             500 non-null    object \n",
            " 2   Edad               500 non-null    int64  \n",
            " 3   Grado              500 non-null    int64  \n",
            " 4   Becado             500 non-null    int64  \n",
            " 5   Horas de Estudio   500 non-null    float64\n",
            " 6   Horas de Tarea     500 non-null    float64\n",
            " 7   Horas de Tutoring  500 non-null    float64\n",
            " 8   Calificacion       500 non-null    float64\n",
            " 9   Paso               500 non-null    object \n",
            "dtypes: float64(4), int64(3), object(3)\n",
            "memory usage: 39.2+ KB\n"
          ]
        }
      ]
    },
    {
      "cell_type": "markdown",
      "source": [],
      "metadata": {
        "id": "BbH820If9vY-"
      }
    },
    {
      "cell_type": "markdown",
      "source": [
        "GRAFICAR MATRIZ DE CONFUSION Y CURVA ROC"
      ],
      "metadata": {
        "id": "uEicZqLiSi9w"
      }
    },
    {
      "cell_type": "code",
      "source": [
        "import matplotlib.pyplot as plt\n",
        "import seaborn as sns\n",
        "from sklearn.metrics import ConfusionMatrixDisplay, roc_curve, auc\n",
        "\n",
        "# Matriz de confusión\n",
        "plt.figure(figsize=(6,5))\n",
        "ConfusionMatrixDisplay.from_estimator(best_model, X_test, y_test, cmap='Blues')\n",
        "plt.title(\"Matriz de Confusión\")\n",
        "plt.show()\n",
        "\n",
        "# Curva ROC\n",
        "##y_proba = best_model.predict_proba(X_test)[:,1]\n",
        "##fpr, tpr, thresholds = roc_curve(y_test, y_proba)\n",
        "##roc_auc = auc(fpr, tpr)\n",
        "\n",
        "y_test_bin = y_test.map({'No':0, 'Sí':1})\n",
        "y_proba = best_model.predict_proba(X_test)[:,1]\n",
        "fpr, tpr, thresholds = roc_curve(y_test_bin, y_proba)\n",
        "roc_auc = auc(fpr, tpr)\n",
        "\n",
        "\n",
        "plt.figure(figsize=(6,5))\n",
        "plt.plot(fpr, tpr, label=f'ROC curve (AUC = {roc_auc:.2f})')\n",
        "plt.plot([0,1], [0,1], 'k--')\n",
        "plt.xlabel(\"False Positive Rate\")\n",
        "plt.ylabel(\"True Positive Rate\")\n",
        "plt.title(\"Curva ROC\")\n",
        "plt.legend(loc='lower right')\n",
        "plt.show()"
      ],
      "metadata": {
        "colab": {
          "base_uri": "https://localhost:8080/",
          "height": 959
        },
        "id": "iWAjbGR59v5Y",
        "outputId": "36bc1dd5-2164-41fc-e2f4-806f9c727147"
      },
      "execution_count": null,
      "outputs": [
        {
          "output_type": "display_data",
          "data": {
            "text/plain": [
              "<Figure size 600x500 with 0 Axes>"
            ]
          },
          "metadata": {}
        },
        {
          "output_type": "display_data",
          "data": {
            "text/plain": [
              "<Figure size 640x480 with 2 Axes>"
            ],
            "image/png": "[encoded data removed]"
          },
          "metadata": {}
        },
        {
          "output_type": "display_data",
          "data": {
            "text/plain": [
              "<Figure size 600x500 with 1 Axes>"
            ],
            "image/png": "[encoded data removed]"
          },
          "metadata": {}
        }
      ]
    }
  ]
}